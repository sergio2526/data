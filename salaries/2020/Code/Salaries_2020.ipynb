{
  "nbformat": 4,
  "nbformat_minor": 0,
  "metadata": {
    "colab": {
      "name": "Salaries-2020.ipynb",
      "provenance": [],
      "collapsed_sections": []
    },
    "kernelspec": {
      "name": "python3",
      "display_name": "Python 3"
    }
  },
  "cells": [
    {
      "cell_type": "markdown",
      "metadata": {
        "id": "okx-4U3qvGK-",
        "colab_type": "text"
      },
      "source": [
        "PROYECTO -> Encuesta de Salarios de Programación en Colombia - 2020\n",
        "\n",
        "*   Identificar las caracteristicas de los desarrolladores.\n",
        "*   Identificar la información de las empresas.\n"
      ]
    },
    {
      "cell_type": "markdown",
      "metadata": {
        "id": "AlfXzzlnvLI8",
        "colab_type": "text"
      },
      "source": [
        "Librerias que vamos a utilizar"
      ]
    },
    {
      "cell_type": "code",
      "metadata": {
        "id": "cjNfVBv9Rv4K",
        "colab_type": "code",
        "colab": {}
      },
      "source": [
        "\n",
        "import pandas as pd\n",
        "import matplotlib.pyplot as plt\n",
        "import numpy as np\n",
        "import sidetable as sdb"
      ],
      "execution_count": null,
      "outputs": []
    },
    {
      "cell_type": "code",
      "metadata": {
        "id": "b986Oo5LVB7p",
        "colab_type": "code",
        "colab": {
          "base_uri": "https://localhost:8080/",
          "height": 119
        },
        "outputId": "bc7e1d5d-b53d-4a1c-ade4-1c6e66dd5c0b"
      },
      "source": [
        "#Esta libreria nos dara un panorama mejor de como se distribuyen los datos\n",
        "!pip install sidetable"
      ],
      "execution_count": null,
      "outputs": [
        {
          "output_type": "stream",
          "text": [
            "Requirement already satisfied: sidetable in /usr/local/lib/python3.6/dist-packages (0.6.0)\n",
            "Requirement already satisfied: pandas>=1.0 in /usr/local/lib/python3.6/dist-packages (from sidetable) (1.0.5)\n",
            "Requirement already satisfied: pytz>=2017.2 in /usr/local/lib/python3.6/dist-packages (from pandas>=1.0->sidetable) (2018.9)\n",
            "Requirement already satisfied: numpy>=1.13.3 in /usr/local/lib/python3.6/dist-packages (from pandas>=1.0->sidetable) (1.18.5)\n",
            "Requirement already satisfied: python-dateutil>=2.6.1 in /usr/local/lib/python3.6/dist-packages (from pandas>=1.0->sidetable) (2.8.1)\n",
            "Requirement already satisfied: six>=1.5 in /usr/local/lib/python3.6/dist-packages (from python-dateutil>=2.6.1->pandas>=1.0->sidetable) (1.15.0)\n"
          ],
          "name": "stdout"
        }
      ]
    },
    {
      "cell_type": "markdown",
      "metadata": {
        "id": "E6dAtPw8Vkzm",
        "colab_type": "text"
      },
      "source": [
        "# Importando dataset "
      ]
    },
    {
      "cell_type": "code",
      "metadata": {
        "id": "d45R-M6lR_yQ",
        "colab_type": "code",
        "colab": {
          "base_uri": "https://localhost:8080/",
          "height": 34
        },
        "outputId": "266fffce-2862-46cf-8516-b837a2dd0f7a"
      },
      "source": [
        "from google.colab import drive\n",
        "drive.mount('/content/drive/')"
      ],
      "execution_count": null,
      "outputs": [
        {
          "output_type": "stream",
          "text": [
            "Drive already mounted at /content/drive/; to attempt to forcibly remount, call drive.mount(\"/content/drive/\", force_remount=True).\n"
          ],
          "name": "stdout"
        }
      ]
    },
    {
      "cell_type": "code",
      "metadata": {
        "id": "2Ql1JM2iShbD",
        "colab_type": "code",
        "colab": {
          "base_uri": "https://localhost:8080/",
          "height": 51
        },
        "outputId": "908227e6-c7c8-45b1-aa3f-d3143edad5eb"
      },
      "source": [
        "%cd '/content/drive/My Drive/Colab Notebooks/Project/Dataset'\n",
        "%ls"
      ],
      "execution_count": null,
      "outputs": [
        {
          "output_type": "stream",
          "text": [
            "/content/drive/My Drive/Colab Notebooks/Project/Dataset\n",
            "Fundador_pie.jpg  raw.csv  tipo_empresa_pie.jpg\n"
          ],
          "name": "stdout"
        }
      ]
    },
    {
      "cell_type": "code",
      "metadata": {
        "id": "WHOChuKlS4zR",
        "colab_type": "code",
        "colab": {}
      },
      "source": [
        "df = pd.read_csv('raw.csv')"
      ],
      "execution_count": null,
      "outputs": []
    },
    {
      "cell_type": "markdown",
      "metadata": {
        "id": "MK0qMsmxTWjb",
        "colab_type": "text"
      },
      "source": [
        "# Información dataset"
      ]
    },
    {
      "cell_type": "code",
      "metadata": {
        "id": "TgQanDFmTHuY",
        "colab_type": "code",
        "colab": {
          "base_uri": "https://localhost:8080/",
          "height": 34
        },
        "outputId": "d51cfd4e-3d8e-48dc-c77a-c2b85200a574"
      },
      "source": [
        "print('Tamaño del conjunto de datos:',df.shape)"
      ],
      "execution_count": null,
      "outputs": [
        {
          "output_type": "stream",
          "text": [
            "Tamaño del conjunto de datos: (1703, 45)\n"
          ],
          "name": "stdout"
        }
      ]
    },
    {
      "cell_type": "code",
      "metadata": {
        "id": "9CkkN0ICTLPh",
        "colab_type": "code",
        "colab": {
          "base_uri": "https://localhost:8080/",
          "height": 901
        },
        "outputId": "6c49d4da-6eb6-4794-8a7e-b65a98f0a6cc"
      },
      "source": [
        "df.info()"
      ],
      "execution_count": null,
      "outputs": [
        {
          "output_type": "stream",
          "text": [
            "<class 'pandas.core.frame.DataFrame'>\n",
            "RangeIndex: 1703 entries, 0 to 1702\n",
            "Data columns (total 45 columns):\n",
            " #   Column                                                                                                                              Non-Null Count  Dtype  \n",
            "---  ------                                                                                                                              --------------  -----  \n",
            " 0   Timestamp                                                                                                                           1703 non-null   object \n",
            " 1   ¿Para qué tipo de empresa trabaja?                                                                                                  1703 non-null   object \n",
            " 2   La empresa para la que usted trabaja se dedica principalmente a                                                                     1703 non-null   object \n",
            " 3   ¿Cuantos años de fundada tiene la empresa para la que trabaja?                                                                      1703 non-null   object \n",
            " 4   ¿Cuál es su título en la empresa?                                                                                                   1604 non-null   object \n",
            " 5   ¿Se considera usted fundador en la empresa?                                                                                         1703 non-null   object \n",
            " 6   ¿Qué porcentaje de su tiempo laboral se ocupa en tareas relacionadas a desarrollo de software?                                      1703 non-null   object \n",
            " 7   ¿Qué porcentaje de su tiempo laboral se ocupa en gerencia de proyectos?                                                             1703 non-null   object \n",
            " 8   ¿Qué porcentaje de su tiempo laboral se ocupa en liderazgo técnico?                                                                 1703 non-null   object \n",
            " 9   ¿Qué porcentaje de su tiempo laboral se ocupa en gerencia de ingeniería?                                                            1703 non-null   object \n",
            " 10  ¿Cuánto tiempo lleva en su cargo actual (incluyendo freelance)?                                                                     1702 non-null   object \n",
            " 11  ¿Cuántos años de experiencia en desarrollo de software profesional tiene?                                                           1703 non-null   object \n",
            " 12  ¿En cuál de los siguientes lenguajes de programación ocupa la mayoría de su tiempo laboral?                                         1700 non-null   object \n",
            " 13  ¿En qué otros lenguajes de programación ocupa su tiempo laboral?                                                                    1700 non-null   object \n",
            " 14  Tipo de relación laboral                                                                                                            1703 non-null   object \n",
            " 15  Su modo de trabajo es: (ignorando el cambio por covid-19)                                                                           1695 non-null   object \n",
            " 16  Usted prefiere:                                                                                                                     1701 non-null   object \n",
            " 17  ¿Tiene titulo universitario o técnico?                                                                                              1703 non-null   object \n",
            " 18  ¿Estudió alguna carrera de PRE-grado relacionada a ingeniería de sistemas?                                                          1703 non-null   object \n",
            " 19  ¿Estudió alguna carrera de POSTgrado relacionada a ingeniería de sistemas?                                                          1703 non-null   object \n",
            " 20  ¿Tomó clases de programación o algorítmia en la universidad?                                                                        1703 non-null   object \n",
            " 21  ¿Cuál es su máximo titulo alcanzado (graduado)?                                                                                     1703 non-null   object \n",
            " 22  ¿Ha estudiado en algún bootcamp de programación?                                                                                    1703 non-null   object \n",
            " 23  ¿Si ha estudiado en un bootcamp de programación, en cuál? (ingrese el url del bootcamp)                                             132 non-null    object \n",
            " 24  ¿Cuál es su nivel de inglés para realizar conversaciones técnicas sobre software?                                                   1703 non-null   object \n",
            " 25  ¿A usted le pagan en pesos colombianos (COP) o dólares (USD)?                                                                       1703 non-null   object \n",
            " 26  ¿Usando la moneda de la respuesta anterior, cuánto es su remuneración ANUAL base?  eg 36,000,000 si es pesos o 3,600 si es dólares  1703 non-null   float64\n",
            " 27  ¿Cuánto es su remuneración ANUAL adicional (usando la moneda que respondio anteriormente)?                                          1703 non-null   int64  \n",
            " 28  ¿Cuánto era la remuneración base ANUAL de su trabajo/rol anterior?                                                                  1703 non-null   int64  \n",
            " 29  ¿Quién paga su seguro de salud?                                                                                                     1703 non-null   object \n",
            " 30  ¿Quién paga sus pensiones y cesantias?                                                                                              1703 non-null   object \n",
            " 31  ¿Tiene acciones (opciones/stock options/rsus) o dividendos de su empresa como parte de su compensación?                             1703 non-null   object \n",
            " 32  ¿Si tiene acciones, cuántas tiene en total?                                                                                         228 non-null    float64\n",
            " 33  ¿Si tiene acciones, cuál es el precio de emisión por acción en USD? (use $3,750 como tasa de cambio si es necesario)                195 non-null    float64\n",
            " 34  ¿Trabaja usted en proyectos freelance a pesar de tener trabajo tiempo completo?                                                     1703 non-null   object \n",
            " 35  ¿Cuanto fue el total de sus ingresos adicionales de proyectos freelance el año pasado?                                              1703 non-null   int64  \n",
            " 36  ¿Siente que su salario es justo?                                                                                                    1703 non-null   object \n",
            " 37  ¿En qué sitio web busca oportunidades laborales principalmente?                                                                     1160 non-null   object \n",
            " 38  ¿En que ciudad de Colombia vive?                                                                                                    1703 non-null   object \n",
            " 39  ¿Cuál es su país de procedencia?                                                                                                    1703 non-null   object \n",
            " 40  ¿En qué año nació?                                                                                                                  1703 non-null   int64  \n",
            " 41  ¿Cuantos hijos tiene?                                                                                                               1703 non-null   int64  \n",
            " 42  ¿Con cual pronombre prefiere que se refieran a usted?                                                                               1703 non-null   object \n",
            " 43  ¿Se considera usted parte de una minoría racial o étnica?                                                                           1703 non-null   object \n",
            " 44  ¿Cuantas horas trabaja por semana?                                                                                                  1613 non-null   float64\n",
            "dtypes: float64(4), int64(5), object(36)\n",
            "memory usage: 598.8+ KB\n"
          ],
          "name": "stdout"
        }
      ]
    },
    {
      "cell_type": "code",
      "metadata": {
        "id": "4ReLS69AUGFT",
        "colab_type": "code",
        "colab": {
          "base_uri": "https://localhost:8080/",
          "height": 390
        },
        "outputId": "35d37d92-d54a-446c-ccfd-ca8fe695cff8"
      },
      "source": [
        "\"\"\"\n",
        " Porcentaje general de las preguntas que fueron resueltas\n",
        " Ejemplo para la pregunta ¿Si ha estudiado en un bootcamp de programación, en cuál? (ingrese el url del bootcamp)\n",
        " el 92.2% no ha estudiado en un bootcamp\n",
        "\n",
        "\"\"\"\n",
        "\n",
        "sidetable = df.stb.missing(all)\n",
        "sidetable\n"
      ],
      "execution_count": null,
      "outputs": [
        {
          "output_type": "execute_result",
          "data": {
            "text/html": [
              "<div>\n",
              "<style scoped>\n",
              "    .dataframe tbody tr th:only-of-type {\n",
              "        vertical-align: middle;\n",
              "    }\n",
              "\n",
              "    .dataframe tbody tr th {\n",
              "        vertical-align: top;\n",
              "    }\n",
              "\n",
              "    .dataframe thead th {\n",
              "        text-align: right;\n",
              "    }\n",
              "</style>\n",
              "<table border=\"1\" class=\"dataframe\">\n",
              "  <thead>\n",
              "    <tr style=\"text-align: right;\">\n",
              "      <th></th>\n",
              "      <th>missing</th>\n",
              "      <th>total</th>\n",
              "      <th>percent</th>\n",
              "    </tr>\n",
              "  </thead>\n",
              "  <tbody>\n",
              "    <tr>\n",
              "      <th>¿Si ha estudiado en un bootcamp de programación, en cuál? (ingrese el url del bootcamp)</th>\n",
              "      <td>1571</td>\n",
              "      <td>1703</td>\n",
              "      <td>92.248972</td>\n",
              "    </tr>\n",
              "    <tr>\n",
              "      <th>¿Si tiene acciones, cuál es el precio de emisión por acción en USD? (use $3,750 como tasa de cambio si es necesario)</th>\n",
              "      <td>1508</td>\n",
              "      <td>1703</td>\n",
              "      <td>88.549618</td>\n",
              "    </tr>\n",
              "    <tr>\n",
              "      <th>¿Si tiene acciones, cuántas tiene en total?</th>\n",
              "      <td>1475</td>\n",
              "      <td>1703</td>\n",
              "      <td>86.611861</td>\n",
              "    </tr>\n",
              "    <tr>\n",
              "      <th>¿En qué sitio web busca oportunidades laborales principalmente?</th>\n",
              "      <td>543</td>\n",
              "      <td>1703</td>\n",
              "      <td>31.884909</td>\n",
              "    </tr>\n",
              "    <tr>\n",
              "      <th>¿Cuál es su título en la empresa?</th>\n",
              "      <td>99</td>\n",
              "      <td>1703</td>\n",
              "      <td>5.813271</td>\n",
              "    </tr>\n",
              "    <tr>\n",
              "      <th>¿Cuantas horas trabaja por semana?</th>\n",
              "      <td>90</td>\n",
              "      <td>1703</td>\n",
              "      <td>5.284792</td>\n",
              "    </tr>\n",
              "    <tr>\n",
              "      <th>Su modo de trabajo es: (ignorando el cambio por covid-19)</th>\n",
              "      <td>8</td>\n",
              "      <td>1703</td>\n",
              "      <td>0.469759</td>\n",
              "    </tr>\n",
              "    <tr>\n",
              "      <th>¿En cuál de los siguientes lenguajes de programación ocupa la mayoría de su tiempo laboral?</th>\n",
              "      <td>3</td>\n",
              "      <td>1703</td>\n",
              "      <td>0.176160</td>\n",
              "    </tr>\n",
              "    <tr>\n",
              "      <th>¿En qué otros lenguajes de programación ocupa su tiempo laboral?</th>\n",
              "      <td>3</td>\n",
              "      <td>1703</td>\n",
              "      <td>0.176160</td>\n",
              "    </tr>\n",
              "    <tr>\n",
              "      <th>Usted prefiere:</th>\n",
              "      <td>2</td>\n",
              "      <td>1703</td>\n",
              "      <td>0.117440</td>\n",
              "    </tr>\n",
              "    <tr>\n",
              "      <th>¿Cuánto tiempo lleva en su cargo actual (incluyendo freelance)?</th>\n",
              "      <td>1</td>\n",
              "      <td>1703</td>\n",
              "      <td>0.058720</td>\n",
              "    </tr>\n",
              "  </tbody>\n",
              "</table>\n",
              "</div>"
            ],
            "text/plain": [
              "                                                    missing  total    percent\n",
              "¿Si ha estudiado en un bootcamp de programación...     1571   1703  92.248972\n",
              "¿Si tiene acciones, cuál es el precio de emisió...     1508   1703  88.549618\n",
              "¿Si tiene acciones, cuántas tiene en total?            1475   1703  86.611861\n",
              "¿En qué sitio web busca oportunidades laborales...      543   1703  31.884909\n",
              "¿Cuál es su título en la empresa?                        99   1703   5.813271\n",
              "¿Cuantas horas trabaja por semana?                       90   1703   5.284792\n",
              "Su modo de trabajo es: (ignorando el cambio por...        8   1703   0.469759\n",
              "¿En cuál de los siguientes lenguajes de program...        3   1703   0.176160\n",
              "¿En qué otros lenguajes de programación ocupa s...        3   1703   0.176160\n",
              "Usted prefiere:                                           2   1703   0.117440\n",
              "¿Cuánto tiempo lleva en su cargo actual (incluy...        1   1703   0.058720"
            ]
          },
          "metadata": {
            "tags": []
          },
          "execution_count": 137
        }
      ]
    },
    {
      "cell_type": "markdown",
      "metadata": {
        "id": "jh0oze32yAGE",
        "colab_type": "text"
      },
      "source": [
        "## Carateristicas de las empresas\n",
        "\n",
        "Obtenemos en un nuevo dataFrame las cualidades de las empresas donde elaboran los desarrolladores."
      ]
    },
    {
      "cell_type": "code",
      "metadata": {
        "id": "7MhkqGl2x8PE",
        "colab_type": "code",
        "colab": {}
      },
      "source": [
        "carasteristicas_empresa = pd.DataFrame({\"Tipo empresa\":df['¿Para qué tipo de empresa trabaja?'], \"Rol empresa\":df['La empresa para la que usted trabaja se dedica principalmente a'], \"Tiempo fundada empresa\":df['¿Cuantos años de fundada tiene la empresa para la que trabaja?']})"
      ],
      "execution_count": null,
      "outputs": []
    },
    {
      "cell_type": "code",
      "metadata": {
        "id": "6nb9BwZ_yBTi",
        "colab_type": "code",
        "colab": {
          "base_uri": "https://localhost:8080/",
          "height": 419
        },
        "outputId": "0dabb046-99fe-43fe-c7b1-0a290d9fe51c"
      },
      "source": [
        "carasteristicas_empresa"
      ],
      "execution_count": null,
      "outputs": [
        {
          "output_type": "execute_result",
          "data": {
            "text/html": [
              "<div>\n",
              "<style scoped>\n",
              "    .dataframe tbody tr th:only-of-type {\n",
              "        vertical-align: middle;\n",
              "    }\n",
              "\n",
              "    .dataframe tbody tr th {\n",
              "        vertical-align: top;\n",
              "    }\n",
              "\n",
              "    .dataframe thead th {\n",
              "        text-align: right;\n",
              "    }\n",
              "</style>\n",
              "<table border=\"1\" class=\"dataframe\">\n",
              "  <thead>\n",
              "    <tr style=\"text-align: right;\">\n",
              "      <th></th>\n",
              "      <th>Tipo empresa</th>\n",
              "      <th>Rol empresa</th>\n",
              "      <th>Tiempo fundada empresa</th>\n",
              "    </tr>\n",
              "  </thead>\n",
              "  <tbody>\n",
              "    <tr>\n",
              "      <th>0</th>\n",
              "      <td>empresa Colombiana con mercado latinoamericano</td>\n",
              "      <td>servicio habilitado por tecnologia (similar a ...</td>\n",
              "      <td>menos de 1</td>\n",
              "    </tr>\n",
              "    <tr>\n",
              "      <th>1</th>\n",
              "      <td>empresa extranjera</td>\n",
              "      <td>servicio o producto de tecnología (similar a d...</td>\n",
              "      <td>2 - 5</td>\n",
              "    </tr>\n",
              "    <tr>\n",
              "      <th>2</th>\n",
              "      <td>empresa extranjera</td>\n",
              "      <td>servicio habilitado por tecnologia (similar a ...</td>\n",
              "      <td>5 - 10</td>\n",
              "    </tr>\n",
              "    <tr>\n",
              "      <th>3</th>\n",
              "      <td>empresa Colombiana con mercado global</td>\n",
              "      <td>servicio no tecnológico (banca, seguros, conta...</td>\n",
              "      <td>más de 10</td>\n",
              "    </tr>\n",
              "    <tr>\n",
              "      <th>4</th>\n",
              "      <td>empresa Colombiana con mercado EEUU</td>\n",
              "      <td>consultoría y servicios de desarrollo de softw...</td>\n",
              "      <td>5 - 10</td>\n",
              "    </tr>\n",
              "    <tr>\n",
              "      <th>...</th>\n",
              "      <td>...</td>\n",
              "      <td>...</td>\n",
              "      <td>...</td>\n",
              "    </tr>\n",
              "    <tr>\n",
              "      <th>1698</th>\n",
              "      <td>empresa Colombiana con mercado latinoamericano</td>\n",
              "      <td>servicio habilitado por tecnologia (similar a ...</td>\n",
              "      <td>menos de 1</td>\n",
              "    </tr>\n",
              "    <tr>\n",
              "      <th>1699</th>\n",
              "      <td>empresa Colombiana con mercado latinoamericano</td>\n",
              "      <td>servicio habilitado por tecnologia (similar a ...</td>\n",
              "      <td>2 - 5</td>\n",
              "    </tr>\n",
              "    <tr>\n",
              "      <th>1700</th>\n",
              "      <td>empresa Colombiana con mercado EEUU</td>\n",
              "      <td>consultoría y servicios de desarrollo de softw...</td>\n",
              "      <td>más de 10</td>\n",
              "    </tr>\n",
              "    <tr>\n",
              "      <th>1701</th>\n",
              "      <td>empresa extranjera</td>\n",
              "      <td>servicio habilitado por tecnologia (similar a ...</td>\n",
              "      <td>2 - 5</td>\n",
              "    </tr>\n",
              "    <tr>\n",
              "      <th>1702</th>\n",
              "      <td>empresa Colombiana con mercado global</td>\n",
              "      <td>consultoría y servicios de desarrollo de softw...</td>\n",
              "      <td>5 - 10</td>\n",
              "    </tr>\n",
              "  </tbody>\n",
              "</table>\n",
              "<p>1703 rows × 3 columns</p>\n",
              "</div>"
            ],
            "text/plain": [
              "                                        Tipo empresa  ... Tiempo fundada empresa\n",
              "0     empresa Colombiana con mercado latinoamericano  ...             menos de 1\n",
              "1                                 empresa extranjera  ...                  2 - 5\n",
              "2                                 empresa extranjera  ...                 5 - 10\n",
              "3              empresa Colombiana con mercado global  ...              más de 10\n",
              "4                empresa Colombiana con mercado EEUU  ...                 5 - 10\n",
              "...                                              ...  ...                    ...\n",
              "1698  empresa Colombiana con mercado latinoamericano  ...             menos de 1\n",
              "1699  empresa Colombiana con mercado latinoamericano  ...                  2 - 5\n",
              "1700             empresa Colombiana con mercado EEUU  ...              más de 10\n",
              "1701                              empresa extranjera  ...                  2 - 5\n",
              "1702           empresa Colombiana con mercado global  ...                 5 - 10\n",
              "\n",
              "[1703 rows x 3 columns]"
            ]
          },
          "metadata": {
            "tags": []
          },
          "execution_count": 139
        }
      ]
    },
    {
      "cell_type": "markdown",
      "metadata": {
        "id": "KLPm80dGuuuo",
        "colab_type": "text"
      },
      "source": [
        "### Caracteristicas de los desarrolladores.\n",
        "\n",
        "Es importante conocer las cualidades de los desarrolladores, por ello, guardamos en un nuevo dataset todo lo relacionado con ellos, dejando aparte las cualidades de las empresas donde laboran."
      ]
    },
    {
      "cell_type": "code",
      "metadata": {
        "id": "qvnbfr1Ko6ae",
        "colab_type": "code",
        "colab": {}
      },
      "source": [
        "df = df.drop(['¿Para qué tipo de empresa trabaja?','La empresa para la que usted trabaja se dedica principalmente a','¿Cuantos años de fundada tiene la empresa para la que trabaja?'],axis=1)"
      ],
      "execution_count": null,
      "outputs": []
    },
    {
      "cell_type": "code",
      "metadata": {
        "id": "KHnXbZPXwJvR",
        "colab_type": "code",
        "colab": {
          "base_uri": "https://localhost:8080/",
          "height": 519
        },
        "outputId": "104c280c-3274-4325-c0e8-94d86a1f4545"
      },
      "source": [
        "df.head(3)"
      ],
      "execution_count": null,
      "outputs": [
        {
          "output_type": "execute_result",
          "data": {
            "text/html": [
              "<div>\n",
              "<style scoped>\n",
              "    .dataframe tbody tr th:only-of-type {\n",
              "        vertical-align: middle;\n",
              "    }\n",
              "\n",
              "    .dataframe tbody tr th {\n",
              "        vertical-align: top;\n",
              "    }\n",
              "\n",
              "    .dataframe thead th {\n",
              "        text-align: right;\n",
              "    }\n",
              "</style>\n",
              "<table border=\"1\" class=\"dataframe\">\n",
              "  <thead>\n",
              "    <tr style=\"text-align: right;\">\n",
              "      <th></th>\n",
              "      <th>Timestamp</th>\n",
              "      <th>¿Cuál es su título en la empresa?</th>\n",
              "      <th>¿Se considera usted fundador en la empresa?</th>\n",
              "      <th>¿Qué porcentaje de su tiempo laboral se ocupa en tareas relacionadas a desarrollo de software?</th>\n",
              "      <th>¿Qué porcentaje de su tiempo laboral se ocupa en gerencia de proyectos?</th>\n",
              "      <th>¿Qué porcentaje de su tiempo laboral se ocupa en liderazgo técnico?</th>\n",
              "      <th>¿Qué porcentaje de su tiempo laboral se ocupa en gerencia de ingeniería?</th>\n",
              "      <th>¿Cuánto tiempo lleva en su cargo actual (incluyendo freelance)?</th>\n",
              "      <th>¿Cuántos años de experiencia en desarrollo de software profesional tiene?</th>\n",
              "      <th>¿En cuál de los siguientes lenguajes de programación ocupa la mayoría de su tiempo laboral?</th>\n",
              "      <th>¿En qué otros lenguajes de programación ocupa su tiempo laboral?</th>\n",
              "      <th>Tipo de relación laboral</th>\n",
              "      <th>Su modo de trabajo es: (ignorando el cambio por covid-19)</th>\n",
              "      <th>Usted prefiere:</th>\n",
              "      <th>¿Tiene titulo universitario o técnico?</th>\n",
              "      <th>¿Estudió alguna carrera de PRE-grado relacionada a ingeniería de sistemas?</th>\n",
              "      <th>¿Estudió alguna carrera de POSTgrado relacionada a ingeniería de sistemas?</th>\n",
              "      <th>¿Tomó clases de programación o algorítmia en la universidad?</th>\n",
              "      <th>¿Cuál es su máximo titulo alcanzado (graduado)?</th>\n",
              "      <th>¿Ha estudiado en algún bootcamp de programación?</th>\n",
              "      <th>¿Si ha estudiado en un bootcamp de programación, en cuál? (ingrese el url del bootcamp)</th>\n",
              "      <th>¿Cuál es su nivel de inglés para realizar conversaciones técnicas sobre software?</th>\n",
              "      <th>¿A usted le pagan en pesos colombianos (COP) o dólares (USD)?</th>\n",
              "      <th>¿Usando la moneda de la respuesta anterior, cuánto es su remuneración ANUAL base?  eg 36,000,000 si es pesos o 3,600 si es dólares</th>\n",
              "      <th>¿Cuánto es su remuneración ANUAL adicional (usando la moneda que respondio anteriormente)?</th>\n",
              "      <th>¿Cuánto era la remuneración base ANUAL de su trabajo/rol anterior?</th>\n",
              "      <th>¿Quién paga su seguro de salud?</th>\n",
              "      <th>¿Quién paga sus pensiones y cesantias?</th>\n",
              "      <th>¿Tiene acciones (opciones/stock options/rsus) o dividendos de su empresa como parte de su compensación?</th>\n",
              "      <th>¿Si tiene acciones, cuántas tiene en total?</th>\n",
              "      <th>¿Si tiene acciones, cuál es el precio de emisión por acción en USD? (use $3,750 como tasa de cambio si es necesario)</th>\n",
              "      <th>¿Trabaja usted en proyectos freelance a pesar de tener trabajo tiempo completo?</th>\n",
              "      <th>¿Cuanto fue el total de sus ingresos adicionales de proyectos freelance el año pasado?</th>\n",
              "      <th>¿Siente que su salario es justo?</th>\n",
              "      <th>¿En qué sitio web busca oportunidades laborales principalmente?</th>\n",
              "      <th>¿En que ciudad de Colombia vive?</th>\n",
              "      <th>¿Cuál es su país de procedencia?</th>\n",
              "      <th>¿En qué año nació?</th>\n",
              "      <th>¿Cuantos hijos tiene?</th>\n",
              "      <th>¿Con cual pronombre prefiere que se refieran a usted?</th>\n",
              "      <th>¿Se considera usted parte de una minoría racial o étnica?</th>\n",
              "      <th>¿Cuantas horas trabaja por semana?</th>\n",
              "    </tr>\n",
              "  </thead>\n",
              "  <tbody>\n",
              "    <tr>\n",
              "      <th>0</th>\n",
              "      <td>6/17/2020 16:23:44</td>\n",
              "      <td>Lider técnico</td>\n",
              "      <td>no</td>\n",
              "      <td>40 - 50%</td>\n",
              "      <td>30 - 40%</td>\n",
              "      <td>10 - 20%</td>\n",
              "      <td>no tengo responsabilidades gerenciales</td>\n",
              "      <td>menos de 1 año</td>\n",
              "      <td>3 - 5 años</td>\n",
              "      <td>JavaScript</td>\n",
              "      <td>HTML / CSS</td>\n",
              "      <td>contrato a termino indefinido</td>\n",
              "      <td>remoto (en casa o en un cafe)</td>\n",
              "      <td>trabajo remoto</td>\n",
              "      <td>técnico</td>\n",
              "      <td>si</td>\n",
              "      <td>no</td>\n",
              "      <td>no</td>\n",
              "      <td>bachiller</td>\n",
              "      <td>No</td>\n",
              "      <td>NaN</td>\n",
              "      <td>intermedio (puede pasar una entrevista de prog...</td>\n",
              "      <td>pesos</td>\n",
              "      <td>32.3</td>\n",
              "      <td>0</td>\n",
              "      <td>0</td>\n",
              "      <td>mi empleador</td>\n",
              "      <td>mi empleador</td>\n",
              "      <td>no</td>\n",
              "      <td>NaN</td>\n",
              "      <td>NaN</td>\n",
              "      <td>si</td>\n",
              "      <td>1000</td>\n",
              "      <td>no</td>\n",
              "      <td>https://linkedin.com</td>\n",
              "      <td>Duitama</td>\n",
              "      <td>Colombia</td>\n",
              "      <td>1997</td>\n",
              "      <td>0</td>\n",
              "      <td>él (tradicionalmente se identifica como hombre)</td>\n",
              "      <td>no</td>\n",
              "      <td>NaN</td>\n",
              "    </tr>\n",
              "    <tr>\n",
              "      <th>1</th>\n",
              "      <td>6/17/2020 16:27:36</td>\n",
              "      <td>Frontend software engineer</td>\n",
              "      <td>no</td>\n",
              "      <td>80 - 90%</td>\n",
              "      <td>0 - 10%</td>\n",
              "      <td>no tengo responsabilidades de liderazgo técnico</td>\n",
              "      <td>no tengo responsabilidades gerenciales</td>\n",
              "      <td>menos de 1 año</td>\n",
              "      <td>3 - 5 años</td>\n",
              "      <td>JavaScript</td>\n",
              "      <td>HTML / CSS</td>\n",
              "      <td>contratista internacional</td>\n",
              "      <td>remoto (en casa o en un cafe)</td>\n",
              "      <td>trabajo remoto</td>\n",
              "      <td>técnico</td>\n",
              "      <td>no</td>\n",
              "      <td>no</td>\n",
              "      <td>no</td>\n",
              "      <td>bachiller</td>\n",
              "      <td>No</td>\n",
              "      <td>NaN</td>\n",
              "      <td>intermedio (puede pasar una entrevista de prog...</td>\n",
              "      <td>dólares</td>\n",
              "      <td>290000000.0</td>\n",
              "      <td>0</td>\n",
              "      <td>84000000</td>\n",
              "      <td>mi empleador</td>\n",
              "      <td>yo</td>\n",
              "      <td>si - stock options</td>\n",
              "      <td>NaN</td>\n",
              "      <td>NaN</td>\n",
              "      <td>no</td>\n",
              "      <td>0</td>\n",
              "      <td>si</td>\n",
              "      <td>https://twitter.com/</td>\n",
              "      <td>Medellín</td>\n",
              "      <td>Colombia</td>\n",
              "      <td>1993</td>\n",
              "      <td>0</td>\n",
              "      <td>él (tradicionalmente se identifica como hombre)</td>\n",
              "      <td>no</td>\n",
              "      <td>NaN</td>\n",
              "    </tr>\n",
              "    <tr>\n",
              "      <th>2</th>\n",
              "      <td>6/17/2020 16:30:30</td>\n",
              "      <td>Full stack software developer</td>\n",
              "      <td>no</td>\n",
              "      <td>70 - 80%</td>\n",
              "      <td>0 - 10%</td>\n",
              "      <td>0 - 10%</td>\n",
              "      <td>no tengo responsabilidades gerenciales</td>\n",
              "      <td>menos de 1 año</td>\n",
              "      <td>5 - 10 años</td>\n",
              "      <td>JavaScript</td>\n",
              "      <td>HTML / CSS</td>\n",
              "      <td>contratista internacional</td>\n",
              "      <td>remoto (en casa o en un cafe)</td>\n",
              "      <td>trabajo remoto</td>\n",
              "      <td>universitario</td>\n",
              "      <td>si</td>\n",
              "      <td>si</td>\n",
              "      <td>si</td>\n",
              "      <td>pregrado</td>\n",
              "      <td>No</td>\n",
              "      <td>NaN</td>\n",
              "      <td>intermedio (puede pasar una entrevista de prog...</td>\n",
              "      <td>dólares</td>\n",
              "      <td>72000.0</td>\n",
              "      <td>0</td>\n",
              "      <td>38400</td>\n",
              "      <td>yo</td>\n",
              "      <td>yo</td>\n",
              "      <td>no</td>\n",
              "      <td>NaN</td>\n",
              "      <td>NaN</td>\n",
              "      <td>no</td>\n",
              "      <td>0</td>\n",
              "      <td>si</td>\n",
              "      <td>https://colombia-dev.slack.com</td>\n",
              "      <td>Armenia</td>\n",
              "      <td>Colombia</td>\n",
              "      <td>1987</td>\n",
              "      <td>0</td>\n",
              "      <td>él (tradicionalmente se identifica como hombre)</td>\n",
              "      <td>no</td>\n",
              "      <td>NaN</td>\n",
              "    </tr>\n",
              "  </tbody>\n",
              "</table>\n",
              "</div>"
            ],
            "text/plain": [
              "            Timestamp  ... ¿Cuantas horas trabaja por semana?\n",
              "0  6/17/2020 16:23:44  ...                                NaN\n",
              "1  6/17/2020 16:27:36  ...                                NaN\n",
              "2  6/17/2020 16:30:30  ...                                NaN\n",
              "\n",
              "[3 rows x 42 columns]"
            ]
          },
          "metadata": {
            "tags": []
          },
          "execution_count": 141
        }
      ]
    },
    {
      "cell_type": "code",
      "metadata": {
        "id": "9Nsu63SeyZg-",
        "colab_type": "code",
        "colab": {}
      },
      "source": [
        ""
      ],
      "execution_count": null,
      "outputs": []
    },
    {
      "cell_type": "code",
      "metadata": {
        "id": "oWLu4vXQyZrS",
        "colab_type": "code",
        "colab": {}
      },
      "source": [
        ""
      ],
      "execution_count": null,
      "outputs": []
    },
    {
      "cell_type": "code",
      "metadata": {
        "id": "Cxg0P-AFyZvd",
        "colab_type": "code",
        "colab": {}
      },
      "source": [
        ""
      ],
      "execution_count": null,
      "outputs": []
    },
    {
      "cell_type": "code",
      "metadata": {
        "id": "XjF0pFWKyZx9",
        "colab_type": "code",
        "colab": {}
      },
      "source": [
        ""
      ],
      "execution_count": null,
      "outputs": []
    },
    {
      "cell_type": "code",
      "metadata": {
        "id": "ke7SlQ4_yZ0M",
        "colab_type": "code",
        "colab": {}
      },
      "source": [
        ""
      ],
      "execution_count": null,
      "outputs": []
    },
    {
      "cell_type": "code",
      "metadata": {
        "id": "33i3mRQpyZ2x",
        "colab_type": "code",
        "colab": {}
      },
      "source": [
        ""
      ],
      "execution_count": null,
      "outputs": []
    },
    {
      "cell_type": "code",
      "metadata": {
        "id": "zgDLrYmIyZ48",
        "colab_type": "code",
        "colab": {}
      },
      "source": [
        ""
      ],
      "execution_count": null,
      "outputs": []
    },
    {
      "cell_type": "code",
      "metadata": {
        "id": "j2ihFlx2yZ8B",
        "colab_type": "code",
        "colab": {}
      },
      "source": [
        ""
      ],
      "execution_count": null,
      "outputs": []
    },
    {
      "cell_type": "code",
      "metadata": {
        "id": "ztoALgUVyZ-p",
        "colab_type": "code",
        "colab": {}
      },
      "source": [
        ""
      ],
      "execution_count": null,
      "outputs": []
    },
    {
      "cell_type": "code",
      "metadata": {
        "id": "ksOJIxKUyaBL",
        "colab_type": "code",
        "colab": {}
      },
      "source": [
        ""
      ],
      "execution_count": null,
      "outputs": []
    },
    {
      "cell_type": "markdown",
      "metadata": {
        "id": "kBQ4uS2Fo-DQ",
        "colab_type": "text"
      },
      "source": [
        "# ¿Para qué tipo de empresa trabaja?"
      ]
    },
    {
      "cell_type": "code",
      "metadata": {
        "id": "RfDhf-EziNg0",
        "colab_type": "code",
        "colab": {}
      },
      "source": [
        "tipo_empresa_valores_unicos = carasteristicas_empresa['Tipo empresa'].unique()\n",
        "tipo_empresa_counts = carasteristicas_empresa['Tipo empresa'].value_counts()"
      ],
      "execution_count": null,
      "outputs": []
    },
    {
      "cell_type": "code",
      "metadata": {
        "id": "d0hZfjCMij7R",
        "colab_type": "code",
        "colab": {
          "base_uri": "https://localhost:8080/",
          "height": 235
        },
        "outputId": "f65daf22-3930-481a-a146-c475f6e176f2"
      },
      "source": [
        "df_empresa = pd.DataFrame({'Total desarrolladores':tipo_empresa_counts})\n",
        "df_empresa"
      ],
      "execution_count": null,
      "outputs": [
        {
          "output_type": "execute_result",
          "data": {
            "text/html": [
              "<div>\n",
              "<style scoped>\n",
              "    .dataframe tbody tr th:only-of-type {\n",
              "        vertical-align: middle;\n",
              "    }\n",
              "\n",
              "    .dataframe tbody tr th {\n",
              "        vertical-align: top;\n",
              "    }\n",
              "\n",
              "    .dataframe thead th {\n",
              "        text-align: right;\n",
              "    }\n",
              "</style>\n",
              "<table border=\"1\" class=\"dataframe\">\n",
              "  <thead>\n",
              "    <tr style=\"text-align: right;\">\n",
              "      <th></th>\n",
              "      <th>Total desarrolladores</th>\n",
              "    </tr>\n",
              "  </thead>\n",
              "  <tbody>\n",
              "    <tr>\n",
              "      <th>empresa extranjera</th>\n",
              "      <td>663</td>\n",
              "    </tr>\n",
              "    <tr>\n",
              "      <th>empresa Colombiana con mercado Colombiano</th>\n",
              "      <td>352</td>\n",
              "    </tr>\n",
              "    <tr>\n",
              "      <th>empresa Colombiana con mercado latinoamericano</th>\n",
              "      <td>230</td>\n",
              "    </tr>\n",
              "    <tr>\n",
              "      <th>empresa Colombiana con mercado global</th>\n",
              "      <td>217</td>\n",
              "    </tr>\n",
              "    <tr>\n",
              "      <th>empresa Colombiana con mercado EEUU</th>\n",
              "      <td>193</td>\n",
              "    </tr>\n",
              "    <tr>\n",
              "      <th>soy independiente (freelance)</th>\n",
              "      <td>48</td>\n",
              "    </tr>\n",
              "  </tbody>\n",
              "</table>\n",
              "</div>"
            ],
            "text/plain": [
              "                                                Total desarrolladores\n",
              "empresa extranjera                                                663\n",
              "empresa Colombiana con mercado Colombiano                         352\n",
              "empresa Colombiana con mercado latinoamericano                    230\n",
              "empresa Colombiana con mercado global                             217\n",
              "empresa Colombiana con mercado EEUU                               193\n",
              "soy independiente (freelance)                                      48"
            ]
          },
          "metadata": {
            "tags": []
          },
          "execution_count": 150
        }
      ]
    },
    {
      "cell_type": "code",
      "metadata": {
        "id": "zvJZIJstczw6",
        "colab_type": "code",
        "colab": {
          "base_uri": "https://localhost:8080/",
          "height": 295
        },
        "outputId": "25b81d2f-6032-4bd3-a05a-ae03c1b09133"
      },
      "source": [
        "\n",
        "plt.barh(range(6), df_empresa[\"Total desarrolladores\"], align='center', alpha=0.5)\n",
        "plt.yticks(range(6), df_empresa.index)\n",
        "plt.xlabel('Desarrolladores')\n",
        "#Y una etiqueta superior\n",
        "plt.title('¿Para qué tipo de empresa trabaja?')\n",
        "plt.savefig('tipo_empresa_barh.jpg')\n",
        "plt.show()"
      ],
      "execution_count": null,
      "outputs": [
        {
          "output_type": "display_data",
          "data": {
            "image/png": "[encoded data removed]",
            "text/plain": [
              "<Figure size 432x288 with 1 Axes>"
            ]
          },
          "metadata": {
            "tags": [],
            "needs_background": "light"
          }
        }
      ]
    },
    {
      "cell_type": "markdown",
      "metadata": {
        "id": "2azzOjMtBd-I",
        "colab_type": "text"
      },
      "source": [
        "*Graficando*"
      ]
    },
    {
      "cell_type": "code",
      "metadata": {
        "id": "PajGyyWQ4xBK",
        "colab_type": "code",
        "colab": {
          "base_uri": "https://localhost:8080/",
          "height": 248
        },
        "outputId": "21554415-c0c3-4d4b-cf6a-616808b0f131"
      },
      "source": [
        "\n",
        "colores = [\"#EE6055\",\"#60D394\",\"#AAF683\",\"#FFD97D\",\"#FF9B85\"]\n",
        "plt.pie(df_empresa[\"Total desarrolladores\"], labels=df_empresa.index, autopct=\"%0.1f %%\", colors=colores)\n",
        "plt.axis(\"equal\")\n",
        "plt.savefig(\"tipo_empresa_pie.jpg\")\n",
        "plt.show()"
      ],
      "execution_count": null,
      "outputs": [
        {
          "output_type": "display_data",
          "data": {
            "image/png": "[encoded data removed]",
            "text/plain": [
              "<Figure size 432x288 with 1 Axes>"
            ]
          },
          "metadata": {
            "tags": []
          }
        }
      ]
    },
    {
      "cell_type": "code",
      "metadata": {
        "id": "Y-9qRUgjzJ6A",
        "colab_type": "code",
        "colab": {}
      },
      "source": [
        ""
      ],
      "execution_count": null,
      "outputs": []
    }
  ]
}